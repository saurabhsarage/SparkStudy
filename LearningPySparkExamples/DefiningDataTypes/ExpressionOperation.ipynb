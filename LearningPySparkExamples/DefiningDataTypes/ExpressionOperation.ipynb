{
 "cells": [
  {
   "cell_type": "code",
   "execution_count": 2,
   "metadata": {},
   "outputs": [],
   "source": [
    "from pyspark.sql import SparkSession\n",
    "from pyspark.sql.types import *\n",
    "from pyspark.sql.functions import *\n",
    "from pyspark import SparkContext"
   ]
  },
  {
   "cell_type": "code",
   "execution_count": 3,
   "metadata": {},
   "outputs": [
    {
     "name": "stderr",
     "output_type": "stream",
     "text": [
      "Setting default log level to \"WARN\".\n",
      "To adjust logging level use sc.setLogLevel(newLevel). For SparkR, use setLogLevel(newLevel).\n",
      "24/07/28 15:52:13 WARN NativeCodeLoader: Unable to load native-hadoop library for your platform... using builtin-java classes where applicable\n"
     ]
    }
   ],
   "source": [
    "spark = SparkSession.builder.appName(\"Expression Operation\").getOrCreate()\n",
    "\n",
    "sc = spark.sparkContext"
   ]
  },
  {
   "cell_type": "code",
   "execution_count": 5,
   "metadata": {},
   "outputs": [
    {
     "data": {
      "text/html": [
       "\n",
       "            <div>\n",
       "                <p><b>SparkSession - in-memory</b></p>\n",
       "                \n",
       "        <div>\n",
       "            <p><b>SparkContext</b></p>\n",
       "\n",
       "            <p><a href=\"http://saurabh:4040\">Spark UI</a></p>\n",
       "\n",
       "            <dl>\n",
       "              <dt>Version</dt>\n",
       "                <dd><code>v3.5.1</code></dd>\n",
       "              <dt>Master</dt>\n",
       "                <dd><code>local[*]</code></dd>\n",
       "              <dt>AppName</dt>\n",
       "                <dd><code>Expression Operation</code></dd>\n",
       "            </dl>\n",
       "        </div>\n",
       "        \n",
       "            </div>\n",
       "        "
      ],
      "text/plain": [
       "<pyspark.sql.session.SparkSession at 0x72d224235c60>"
      ]
     },
     "execution_count": 5,
     "metadata": {},
     "output_type": "execute_result"
    }
   ],
   "source": [
    "spark"
   ]
  },
  {
   "cell_type": "code",
   "execution_count": 8,
   "metadata": {},
   "outputs": [],
   "source": [
    "dataD = [\n",
    "        {\"Id\":1, \"First\": \"Jules\", \"Last\":\"Damji\", \"Url\":\"https://tinyurl.1\", \"Published\":\"1/4/2016\", \"Hits\": 4535, \"Campaigns\": [\"twitter\", \"LinkedIn\"]},\n",
    "        {\"Id\":2, \"First\": \"Brooke\",\"Last\": \"Wenig\",\"Url\": \"https://tinyurl.2\", \"Published\": \"5/5/2018\", \"Hits\":8908, \"Campaigns\": [\"twitter\", \"LinkedIn\"]},\n",
    "        {\"Id\": 3, \"First\": \"Denny\", \"Last\": \"Lee\", \"Url\": \"https://tinyurl.3\",\"Published\": \"6/7/2019\",\"Hits\": 7659, \"Campaigns\": [\"web\", \"twitter\", \"FB\", \"LinkedIn\"]},\n",
    "        {\"Id\": 4, \"First\":\"Tathagata\", \"Last\": \"Das\",\"Url\": \"https://tinyurl.4\", \"Published\": \"5/12/2018\", \"Hits\": 10568, \"Campaigns\": [\"twitter\", \"FB\"]},\n",
    "        {\"Id\": 5, \"First\": \"Matei\",\"Last\": \"Zaharia\",\"Url\": \"https://tinyurl.5\", \"Published\": \"5/14/2014\", \"Hits\": 40578, \"Campaigns\": [\"web\", \"twitter\", \"FB\", \"LinkedIn\"]},\n",
    "        {\"Id\":6,  \"First\": \"Reynold\", \"Last\": \"Xin\", \"Url\": \"https://tinyurl.6\", \"Published\": \"3/2/2015\", \"Hits\": 25568, \"Campaigns\": [\"twitter\", \"LinkedIn\"] }\n",
    "        ]\n",
    "\n",
    "schemaDDL= \"\"\" Id int, First String, Last String, Url String, Published String, Hits int, Campaigns array<string>\"\"\""
   ]
  },
  {
   "cell_type": "code",
   "execution_count": 10,
   "metadata": {},
   "outputs": [],
   "source": [
    "SDf = spark.createDataFrame(dataD, schemaDDL)"
   ]
  },
  {
   "cell_type": "code",
   "execution_count": 12,
   "metadata": {},
   "outputs": [
    {
     "data": {
      "text/plain": [
       "['Id', 'First', 'Last', 'Url', 'Published', 'Hits', 'Campaigns']"
      ]
     },
     "execution_count": 12,
     "metadata": {},
     "output_type": "execute_result"
    }
   ],
   "source": [
    "SDf.columns"
   ]
  },
  {
   "cell_type": "code",
   "execution_count": 20,
   "metadata": {},
   "outputs": [
    {
     "name": "stdout",
     "output_type": "stream",
     "text": [
      "+----------+--------+----+\n",
      "|(Hits * 2)|Hits *2 |Hits|\n",
      "+----------+--------+----+\n",
      "|      9070|    9070|4535|\n",
      "|     17816|   17816|8908|\n",
      "+----------+--------+----+\n",
      "only showing top 2 rows\n",
      "\n"
     ]
    }
   ],
   "source": [
    "SDf.select(expr(\"Hits * 2\"),(col(\"Hits\") * 2).alias(\"Hits *2 \"), col(\"Hits\")).show(2)"
   ]
  },
  {
   "cell_type": "code",
   "execution_count": 21,
   "metadata": {},
   "outputs": [
    {
     "name": "stdout",
     "output_type": "stream",
     "text": [
      "+---+---------+-------+-----------------+---------+-----+--------------------+-----------+\n",
      "| Id|    First|   Last|              Url|Published| Hits|           Campaigns|Big Hitters|\n",
      "+---+---------+-------+-----------------+---------+-----+--------------------+-----------+\n",
      "|  1|    Jules|  Damji|https://tinyurl.1| 1/4/2016| 4535| [twitter, LinkedIn]|      false|\n",
      "|  2|   Brooke|  Wenig|https://tinyurl.2| 5/5/2018| 8908| [twitter, LinkedIn]|      false|\n",
      "|  3|    Denny|    Lee|https://tinyurl.3| 6/7/2019| 7659|[web, twitter, FB...|      false|\n",
      "|  4|Tathagata|    Das|https://tinyurl.4|5/12/2018|10568|       [twitter, FB]|       true|\n",
      "|  5|    Matei|Zaharia|https://tinyurl.5|5/14/2014|40578|[web, twitter, FB...|       true|\n",
      "|  6|  Reynold|    Xin|https://tinyurl.6| 3/2/2015|25568| [twitter, LinkedIn]|       true|\n",
      "+---+---------+-------+-----------------+---------+-----+--------------------+-----------+\n",
      "\n"
     ]
    },
    {
     "name": "stderr",
     "output_type": "stream",
     "text": [
      "                                                                                \r"
     ]
    }
   ],
   "source": [
    "## BigHitters\n",
    "SDf.withColumn(\"Big Hitters\", expr(\"Hits > 10000\")).show()"
   ]
  },
  {
   "cell_type": "code",
   "execution_count": 22,
   "metadata": {},
   "outputs": [],
   "source": [
    "spark.stop()"
   ]
  },
  {
   "cell_type": "code",
   "execution_count": null,
   "metadata": {},
   "outputs": [],
   "source": []
  }
 ],
 "metadata": {
  "kernelspec": {
   "display_name": "sparkEnv",
   "language": "python",
   "name": "python3"
  },
  "language_info": {
   "codemirror_mode": {
    "name": "ipython",
    "version": 3
   },
   "file_extension": ".py",
   "mimetype": "text/x-python",
   "name": "python",
   "nbconvert_exporter": "python",
   "pygments_lexer": "ipython3",
   "version": "3.10.14"
  }
 },
 "nbformat": 4,
 "nbformat_minor": 2
}
