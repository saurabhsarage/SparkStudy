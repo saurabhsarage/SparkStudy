{
 "cells": [
  {
   "cell_type": "markdown",
   "metadata": {},
   "source": [
    "### [Dataset Link](https://data.sfgov.org/Public-Safety/Fire-Incidents/wr8u-xric/data)"
   ]
  },
  {
   "cell_type": "code",
   "execution_count": 10,
   "metadata": {},
   "outputs": [],
   "source": [
    "from pyspark.sql import SparkSession\n",
    "from pyspark.sql.types import *\n",
    "from pyspark.sql.functions import *"
   ]
  },
  {
   "cell_type": "code",
   "execution_count": 2,
   "metadata": {},
   "outputs": [
    {
     "name": "stderr",
     "output_type": "stream",
     "text": [
      "Setting default log level to \"WARN\".\n",
      "To adjust logging level use sc.setLogLevel(newLevel). For SparkR, use setLogLevel(newLevel).\n",
      "24/07/28 20:31:01 WARN NativeCodeLoader: Unable to load native-hadoop library for your platform... using builtin-java classes where applicable\n"
     ]
    }
   ],
   "source": [
    "spark = SparkSession.builder.appName(\"Data Frame Operations\").getOrCreate()\n",
    "sc = spark.sparkContext"
   ]
  },
  {
   "cell_type": "code",
   "execution_count": 3,
   "metadata": {},
   "outputs": [],
   "source": [
    "schema = StructType([\n",
    "    StructField('CallNumber', IntegerType(), True),\n",
    "    StructField('UnitID', StringType(), True),\n",
    "    StructField('IncidentNumber', IntegerType(), True),\n",
    "    StructField('CallType', StringType(), True),\n",
    "    StructField('CallDate', StringType(), True),\n",
    "    StructField('WatchDate', StringType(), True),\n",
    "    StructField('CallFinalDisposition', StringType(), True),\n",
    "    StructField('AvailableDtTm', StringType(), True),\n",
    "    StructField('Address', StringType(), True),\n",
    "    StructField('City', StringType(), True),\n",
    "    StructField('Zipcode', IntegerType(), True),\n",
    "    StructField('Battalion', StringType(), True),\n",
    "    StructField('StationArea', StringType(), True),\n",
    "    StructField('Box', StringType(), True),\n",
    "    StructField('OriginalPriority', StringType(), True),\n",
    "    StructField('Priority', StringType(), True),\n",
    "    StructField('FinalPriority', IntegerType(), True),\n",
    "    StructField('ALSUnit', BooleanType(), True),\n",
    "    StructField('CallTypeGroup', StringType(), True),\n",
    "    StructField('NumAlarms', IntegerType(), True),\n",
    "    StructField('UnitType', StringType(), True),\n",
    "    StructField('UnitSequenceInCallDispatch', IntegerType(), True),\n",
    "    StructField('FirePreventionDistrict', StringType(), True),\n",
    "    StructField('SupervisorDistrict', StringType(), True),\n",
    "    StructField('Neighborhood', StringType(), True),\n",
    "    StructField('Location', StringType(), True),\n",
    "    StructField('RowID', StringType(), True),\n",
    "    StructField('Delay', FloatType(), True)\n",
    "])"
   ]
  },
  {
   "cell_type": "code",
   "execution_count": 16,
   "metadata": {},
   "outputs": [],
   "source": [
    "sf_fire_data = spark.read.csv(\"file:///home/saurabh/Desktop/SparkStudy/LearningPySparkExamples/datasets/Fire_Incidents.csv\",\n",
    "                               header=True)\n",
    "                               #, schema=schema)"
   ]
  },
  {
   "cell_type": "code",
   "execution_count": 18,
   "metadata": {},
   "outputs": [
    {
     "name": "stderr",
     "output_type": "stream",
     "text": [
      "[Stage 11:===================>                                      (1 + 2) / 3]\r"
     ]
    },
    {
     "name": "stdout",
     "output_type": "stream",
     "text": [
      "+---------------+---------------+---------+--------------------+-------------+-----------+--------------------+--------------------+--------------------+-------------+-------+---------+------------+----+-----------------+---------------------+---------+-------------+-----------+---------------+-------------------+-----------------------+-----------------------+---------------+-------------+-------------------+-----------------+----------------+--------------------+----------+--------------------+----------------------+--------------------+--------------------------+--------------------+--------------------+--------------------+-----------------------+-------------------------+--------------------+--------------------+--------------------------------------+--------------------+----------------+--------------------+-----------+---------------+------------------------------------+----------------------------------------+----------------------------------+------------------------------------+-----------------+-------------+--------------------+----------------------+-----------------------+--------------------------------------+----------------------------------+----------------------------------------+--------------------------------------------+-----------------------------------+-------------------+---------------------+--------------------+--------------------+--------------------+\n",
      "|Incident Number|Exposure Number|       ID|             Address|Incident Date|Call Number|          Alarm DtTm|        Arrival DtTm|          Close DtTm|         City|zipcode|Battalion|Station Area| Box|Suppression Units|Suppression Personnel|EMS Units|EMS Personnel|Other Units|Other Personnel|First Unit On Scene|Estimated Property Loss|Estimated Contents Loss|Fire Fatalities|Fire Injuries|Civilian Fatalities|Civilian Injuries|Number of Alarms|   Primary Situation|Mutual Aid|Action Taken Primary|Action Taken Secondary|  Action Taken Other|Detector Alerted Occupants|        Property Use| Area of Fire Origin|      Ignition Cause|Ignition Factor Primary|Ignition Factor Secondary|         Heat Source|  Item First Ignited|Human Factors Associated with Ignition|      Structure Type|Structure Status|Floor of Fire Origin|Fire Spread|No Flame Spread|Number of floors with minimum damage|Number of floors with significant damage|Number of floors with heavy damage|Number of floors with extreme damage|Detectors Present|Detector Type|  Detector Operation|Detector Effectiveness|Detector Failure Reason|Automatic Extinguishing System Present|Automatic Extinguishing Sytem Type|Automatic Extinguishing Sytem Perfomance|Automatic Extinguishing Sytem Failure Reason|Number of Sprinkler Heads Operating|Supervisor District|neighborhood_district|               point|          data_as_of|      data_loaded_at|\n",
      "+---------------+---------------+---------+--------------------+-------------+-----------+--------------------+--------------------+--------------------+-------------+-------+---------+------------+----+-----------------+---------------------+---------+-------------+-----------+---------------+-------------------+-----------------------+-----------------------+---------------+-------------+-------------------+-----------------+----------------+--------------------+----------+--------------------+----------------------+--------------------+--------------------------+--------------------+--------------------+--------------------+-----------------------+-------------------------+--------------------+--------------------+--------------------------------------+--------------------+----------------+--------------------+-----------+---------------+------------------------------------+----------------------------------------+----------------------------------+------------------------------------+-----------------+-------------+--------------------+----------------------+-----------------------+--------------------------------------+----------------------------------+----------------------------------------+--------------------------------------------+-----------------------------------+-------------------+---------------------+--------------------+--------------------+--------------------+\n",
      "|       17032508|              2|170325082|              JULIAN|   2017/03/17|  170760125|2017/03/17 12:51:...|2017/03/17 12:54:...|2017/03/17 01:26:...|San Francisco|  94102|      B02|          36|5215|                3|                   11|        0|            0|          0|              0|               NULL|                  15000|                    500|              0|            0|                  0|                0|               1|131 Passenger veh...|    N None|11 Extinguishment...|                  NULL|                NULL|                      NULL|962 Residential s...|90 Outside area, ...|0 Cause, other (O...|       71 Exposure fire|                     NULL|81 Heat from dire...|99 Multiple items...|                                  NULL|                NULL|            NULL|                NULL|       NULL|             NO|                                NULL|                                    NULL|                              NULL|                                NULL|             NULL|         NULL|                NULL|                  NULL|                   NULL|                                  NULL|                              NULL|                                    NULL|                                        NULL|                               NULL|                  9|              Mission|POINT (-122.42105...|2017/03/17 01:26:...|2024/07/28 02:19:...|\n",
      "|       18096022|              2|180960222|             424 IVY|   2018/08/15|  182274295|2018/08/15 11:19:...|2018/08/15 11:23:...|2018/08/16 02:52:...|San Francisco|  94102|      B02|          36|3315|                9|                   33|        2|            3|          1|              2|               NULL|                  50000|                   NULL|              0|            0|                  0|                0|               1|   111 Building fire|    N None|11 Extinguishment...|                  NULL|                NULL|                      NULL|419 1 or 2 family...|72 Exterior balco...|0 Cause, other (O...|       71 Exposure fire|                     NULL|81 Heat from dire...|12 Exterior sidew...|                                  NULL| 1 Enclosed building| 2 In normal use|                   2|       NULL|            YES|                                NULL|                                    NULL|                              NULL|                                NULL|        1 Present|      1 Smoke|1 Fire too small ...|                  NULL|                   NULL|                        N None Present|                              NULL|                                    NULL|                                        NULL|                               NULL|                  5|         Hayes Valley|POINT (-122.42520...|2018/08/16 02:52:...|2024/07/28 02:19:...|\n",
      "|       22083352|              2|220833522|  45 MCCOPPIN STREET|   2022/06/30|  221810263|2022/06/30 05:03:...|2022/06/30 05:08:...|2022/06/30 06:42:...|San Francisco|  94103|      B02|          36|5125|               11|                   42|        2|            3|          2|              3|               NULL|                  20000|                   NULL|              0|            0|                  0|                0|               1|     100 Fire, other|    N None|11 Extinguishment...|        86 Investigate|                NULL|                      NULL|429 Multifamily d...|00 Other area of ...|0 Cause, other (O...|       71 Exposure fire|                     NULL|00 Heat source: o...|     UU Undetermined|                                  NULL|                NULL|            NULL|                NULL|       NULL|             NA|                                NULL|                                    NULL|                              NULL|                                NULL|             NULL|         NULL|                NULL|                  NULL|                   NULL|                                  NULL|                              NULL|                                    NULL|                                        NULL|                               NULL|                  6|              Mission|POINT (-122.42132...|2022/07/03 07:02:...|2024/07/28 02:19:...|\n",
      "|       22093195|              2|220931952|   1180 FITZGEALD AV|   2022/07/21|  222022450|2022/09/15 05:28:...|2022/09/15 05:32:...|2022/09/15 07:53:...|San Francisco|  94124|      B10|          17|6615|               16|                   59|        4|            7|          4|              6|               NULL|                 200000|                  10000|              0|            0|                  0|                0|               2|   111 Building fire|    N None|11 Extinguishment...|        86 Investigate|12 Salvage & over...|                      NULL| 100 Assembly, other|90 Outside area, ...|0 Cause, other (O...|       71 Exposure fire|                     NULL|     UU Undetermined|     UU Undetermined|                                  NULL| 1 Enclosed building| 2 In normal use|                   1|       NULL|             NO|                                NULL|                                    NULL|                              NULL|                                NULL|   U Undetermined|         NULL|                NULL|                  NULL|                   NULL|                        U Undetermined|                              NULL|                                    NULL|                                        NULL|                               NULL|                 10| Bayview Hunters P...|POINT (-122.39090...|2022/09/28 04:36:...|2024/07/28 02:19:...|\n",
      "|       22096169|              2|220961692|1050 SOUTH VAN NE...|   2022/07/28|  222091578|2022/07/28 01:04:...|2022/07/28 01:08:...|2022/07/28 02:10:...|San Francisco|  94110|      B06|          07|5433|                0|                    0|        1|            2|          0|              0|               NULL|                  10000|                   NULL|              0|            0|                  0|                0|               1|150 Outside rubbi...|    N None|11 Extinguishment...|        86 Investigate|                NULL|                      NULL|439 Boarding/room...|05 Entranceway, l...|0 Cause, other (O...|       71 Exposure fire|                     NULL|60 Heat from othe...|20 Furniture, ute...|                                  NULL|                NULL|            NULL|                NULL|       NULL|             NA|                                NULL|                                    NULL|                              NULL|                                NULL|             NULL|         NULL|                NULL|                  NULL|                   NULL|                                  NULL|                              NULL|                                    NULL|                                        NULL|                               NULL|                  9|              Mission|POINT (-122.41673...|2022/09/04 06:11:...|2024/07/28 02:19:...|\n",
      "|       22111765|              2|221117652| 1211 FITZGERALD AVE|   2022/08/31|  222430242|2022/08/31 03:26:...|2022/08/31 03:30:...|2022/08/31 11:10:...|San Francisco|  94124|      B10|          17|6614|               17|                   60|        3|            5|          2|              3|               NULL|                 900000|                 200000|              0|            0|                  0|                1|               2|   111 Building fire|    N None|11 Extinguishment...|        86 Investigate|                NULL|                      NULL|419 1 or 2 family...|76 Wall surface: ...|0 Cause, other (O...|       71 Exposure fire|                     NULL|81 Heat from dire...|12 Exterior sidew...|                                  NULL| 1 Enclosed building| 2 In normal use|                   2|       NULL|             NO|                                NULL|                                    NULL|                              NULL|                                NULL|   U Undetermined|         NULL|                NULL|                  NULL|                   NULL|                        N None Present|                              NULL|                                    NULL|                                        NULL|                               NULL|                 10| Bayview Hunters P...|POINT (-122.39167...|2022/08/31 11:10:...|2024/07/28 02:19:...|\n",
      "|       22111765|              3|221117653| 1219 FITZGERALD AVE|   2022/08/31|  222430242|2022/08/31 03:26:...|2022/08/31 03:30:...|2022/08/31 11:10:...|San Francisco|  94124|      B10|          17|6614|               17|                   60|        3|            5|          2|              3|               NULL|                 900000|                 200000|              0|            0|                  0|                1|               2|   111 Building fire|    N None|11 Extinguishment...|        86 Investigate|                NULL|                      NULL|419 1 or 2 family...|76 Wall surface: ...|0 Cause, other (O...|       71 Exposure fire|                     NULL|81 Heat from dire...|12 Exterior sidew...|                                  NULL| 1 Enclosed building| 2 In normal use|                   2|       NULL|             NO|                                NULL|                                    NULL|                              NULL|                                NULL|   N None present|         NULL|                NULL|                  NULL|                   NULL|                        N None Present|                              NULL|                                    NULL|                                        NULL|                               NULL|                 10| Bayview Hunters P...|POINT (-122.39167...|2022/08/31 11:10:...|2024/07/28 02:19:...|\n",
      "|       22117218|              2|221172182| 1606 SHAFTER AVENUE|   2022/09/11|  222540388|2022/09/11 03:17:...|2022/09/11 03:22:...|2022/09/11 03:44:...|San Francisco|  94124|      B10|          17|6535|                2|                    9|        0|            0|          0|              0|               NULL|                   1000|                   NULL|              0|            0|                  0|                1|               1|131 Passenger veh...|    N None|11 Extinguishment...|        86 Investigate|                NULL|                      NULL|419 1 or 2 family...|92 Highway, parki...|0 Cause, other (O...|       71 Exposure fire|                     NULL|81 Heat from dire...|00 Item first ign...|                                  NULL|                NULL|            NULL|                NULL|       NULL|             NA|                                NULL|                                    NULL|                              NULL|                                NULL|             NULL|         NULL|                NULL|                  NULL|                   NULL|                                  NULL|                              NULL|                                    NULL|                                        NULL|                               NULL|                 10| Bayview Hunters P...|POINT (-122.39073...|2022/09/13 02:48:...|2024/07/28 02:19:...|\n",
      "|       22128283|              2|221282832|     580 FELL STREET|   2022/10/05|  222780256|2023/01/01 03:40:...|2023/01/01 03:43:...|2023/01/01 03:46:...|San Francisco|  94102|      B02|          05|3423|               12|                   45|        3|            5|          2|              3|               NULL|                 500000|                  80000|              0|            0|                  0|                0|               1|   111 Building fire|    N None|11 Extinguishment...|  12 Salvage & over...|      86 Investigate|                      NULL|429 Multifamily d...|00 Other area of ...|0 Cause, other (O...|       71 Exposure fire|                     NULL|     UU Undetermined|     UU Undetermined|                                  NULL| 1 Enclosed building| 2 In normal use|                   1|       NULL|             NO|                                NULL|                                    NULL|                              NULL|                                NULL|   U Undetermined|         NULL|                NULL|                  NULL|                   NULL|                        U Undetermined|                              NULL|                                    NULL|                                        NULL|                               NULL|                  5|         Hayes Valley|POINT (-122.42765...|2023/01/02 09:51:...|2024/07/28 02:19:...|\n",
      "|       22130499|              2|221304992|   1930 PALOU AVENUE|   2022/10/09|  222822463|2022/10/09 06:30:...|2022/10/09 06:34:...|2022/10/10 06:40:...|San Francisco|  94124|      B10|          42|6431|               23|                   87|        6|           10|          2|              3|               NULL|                 500000|                 100000|              0|            0|                  0|                0|               2|   111 Building fire|    N None|11 Extinguishment...|        86 Investigate|                NULL|                      NULL|419 1 or 2 family...|76 Wall surface: ...|0 Cause, other (O...|       71 Exposure fire|                     NULL|81 Heat from dire...|12 Exterior sidew...|                                  NULL| 1 Enclosed building| 2 In normal use|                   1|       NULL|             NO|                                NULL|                                    NULL|                              NULL|                                NULL|   U Undetermined|         NULL|                NULL|                  NULL|                   NULL|                        N None Present|                              NULL|                                    NULL|                                        NULL|                               NULL|                 10| Bayview Hunters P...|POINT (-122.39699...|2022/11/25 05:09:...|2024/07/28 02:19:...|\n",
      "|       22134462|              2|221344622|100 BLK ALICE B. ...|   2022/10/18|  222910900|2022/10/18 09:31:...|2022/10/18 09:37:...|2022/10/18 10:41:...|San Francisco|  94109|      B04|          03|3116|                2|                    9|        0|            0|          1|              1|               NULL|                   5000|                   NULL|              0|            0|                  0|                0|               1|131 Passenger veh...|    N None|11 Extinguishment...|        86 Investigate|                NULL|                      NULL|963 Street or roa...|80 Vehicle area, ...|0 Cause, other (O...|       71 Exposure fire|                     NULL|81 Heat from dire...|00 Item first ign...|                                  NULL|                NULL|            NULL|                NULL|       NULL|             NA|                                NULL|                                    NULL|                              NULL|                                NULL|             NULL|         NULL|                NULL|                  NULL|                   NULL|                                  NULL|                              NULL|                                    NULL|                                        NULL|                               NULL|                  5|           Tenderloin|POINT (-122.41964...|2022/10/18 12:20:...|2024/07/28 02:19:...|\n",
      "|       22134462|              3|221344623|100 BLK ALICE B. ...|   2022/10/18|  222910900|2022/10/18 09:31:...|2022/10/18 09:37:...|2022/10/18 10:41:...|San Francisco|  94109|      B04|          03|3116|                2|                    9|        0|            0|          1|              1|               NULL|                   2000|                   NULL|              0|            0|                  0|                0|               1|131 Passenger veh...|    N None|11 Extinguishment...|        86 Investigate|                NULL|                      NULL|963 Street or roa...|80 Vehicle area, ...|0 Cause, other (O...|       71 Exposure fire|                     NULL|81 Heat from dire...|00 Item first ign...|                                  NULL|                NULL|            NULL|                NULL|       NULL|             NA|                                NULL|                                    NULL|                              NULL|                                NULL|             NULL|         NULL|                NULL|                  NULL|                   NULL|                                  NULL|                              NULL|                                    NULL|                                        NULL|                               NULL|                  5|           Tenderloin|POINT (-122.41964...|2022/10/18 12:20:...|2024/07/28 02:19:...|\n",
      "|       22165641|              2|221656412| 1500 QUESADA AVENUE|   2022/12/21|  223552994|2022/12/21 09:46:...|2022/12/21 09:51:...|2022/12/21 10:57:...|San Francisco|  94124|      B10|          17|6535|                1|                    4|        0|            0|          1|              1|               NULL|                   3000|                   NULL|              0|            0|                  0|                0|               1|   111 Building fire|    N None|11 Extinguishment...|        86 Investigate|                NULL|                      NULL|419 1 or 2 family...|76 Wall surface: ...|0 Cause, other (O...|       71 Exposure fire|                     NULL|82 Radiated heat ...|12 Exterior sidew...|                                  NULL| 1 Enclosed building| 2 In normal use|                   1|       NULL|             NO|                                NULL|                                    NULL|                              NULL|                                NULL|   N None present|         NULL|                NULL|                  NULL|                   NULL|                        N None Present|                              NULL|                                    NULL|                                        NULL|                               NULL|                 10| Bayview Hunters P...|POINT (-122.38775...|2022/12/22 10:37:...|2024/07/28 02:19:...|\n",
      "|       23001979|              2|230019792|          8TH STREET|   2023/01/04|  230042522|2023/01/04 06:16:...|2023/01/04 06:19:...|2023/01/04 07:17:...|San Francisco|  94103|      B03|          29|2325|                1|                    4|        0|            0|          1|              1|               NULL|                      0|                    200|              0|            0|                  0|                0|               1|112 Fires in stru...|    N None|11 Extinguishment...|        86 Investigate|                NULL|                      NULL|807 Outside mater...|41 Storage room, ...|0 Cause, other (O...|       71 Exposure fire|                     NULL|82 Radiated heat ...|00 Item first ign...|                                  NULL|0 Structure type,...| 2 In normal use|                   1|       NULL|             NO|                                NULL|                                    NULL|                              NULL|                                NULL|   N None present|         NULL|                NULL|                  NULL|                   NULL|                        N None Present|                              NULL|                                    NULL|                                        NULL|                               NULL|                  6|      South of Market|POINT (-122.40542...|2023/01/05 09:52:...|2024/07/28 02:19:...|\n",
      "|       23019290|              2|230192902|    1738 22ND AVENUE|   2023/02/09|  230400875|2023/02/09 09:21:...|2023/02/09 09:25:...|2023/02/10 08:29:...|San Francisco|  94122|      B08|          18|7446|               35|                  136|        6|           10|          5|              9|               NULL|                2000000|                 800000|              0|            0|                  1|                2|               3|   111 Building fire|    N None|11 Extinguishment...|        86 Investigate|                NULL|                      NULL|419 1 or 2 family...|00 Other area of ...|0 Cause, other (O...|       71 Exposure fire|                     NULL|81 Heat from dire...|00 Item first ign...|                                  NULL| 1 Enclosed building| 2 In normal use|                   1|       NULL|             NO|                                NULL|                                    NULL|                              NULL|                                NULL|   N None present|         NULL|                NULL|                  NULL|                   NULL|                        N None Present|                              NULL|                                    NULL|                                        NULL|                               NULL|                  4|      Sunset/Parkside|POINT (-122.47968...|2023/02/14 04:09:...|2024/07/28 02:19:...|\n",
      "|       23020033|              2|230200332|      455 GENEVA AVE|   2023/02/10|  230413037|2023/02/22 07:39:...|2023/02/22 07:43:...|2023/02/22 08:59:...|San Francisco|  94114|      B09|          15|8313|                0|                    0|        1|            2|          0|              0|               NULL|                    500|                    500|              0|            0|                  0|                0|               1|1600 Tent/Encampm...|    N None|11 Extinguishment...|        86 Investigate|                NULL|                      NULL|    UUU Undetermined|00 Other area of ...|0 Cause, other (O...|       71 Exposure fire|                     NULL|     UU Undetermined|     UU Undetermined|                                  NULL|                NULL|            NULL|                NULL|       NULL|             NA|                                NULL|                                    NULL|                              NULL|                                NULL|             NULL|         NULL|                NULL|                  NULL|                   NULL|                                  NULL|                              NULL|                                    NULL|                                        NULL|                               NULL|                 11|        Outer Mission|POINT (-122.44708...|2023/03/11 05:57:...|2024/07/28 02:19:...|\n",
      "|       23020033|              3|230200333|      455 GENEVA AVE|   2023/02/10|  230413037|2023/02/22 07:39:...|2023/02/22 07:43:...|2023/02/22 08:52:...|San Francisco|  94114|      B09|          15|8313|                0|                    0|        1|            2|          0|              0|               NULL|                    500|                    500|              0|            0|                  0|                0|               1|1600 Tent/Encampm...|    N None|11 Extinguishment...|        86 Investigate|                NULL|                      NULL|0000 Tent/Encampment|00 Other area of ...|0 Cause, other (O...|       71 Exposure fire|                     NULL|     UU Undetermined|     UU Undetermined|                                  NULL|                NULL|            NULL|                NULL|       NULL|             NA|                                NULL|                                    NULL|                              NULL|                                NULL|             NULL|         NULL|                NULL|                  NULL|                   NULL|                                  NULL|                              NULL|                                    NULL|                                        NULL|                               NULL|                 11|        Outer Mission|POINT (-122.44708...|2023/03/11 05:57:...|2024/07/28 02:19:...|\n",
      "|       23066025|              2|230660252|  1725 TAYLOR STREET|   2023/05/16|  231360181|2023/05/16 03:02:...|2023/05/16 03:07:...|2023/05/19 04:56:...|San Francisco|  94133|      B01|          02|1441|                2|                    9|        0|            0|          1|              1|               NULL|                   3339|                   NULL|              0|            0|                  0|                0|               1|131 Passenger veh...|    N None|11 Extinguishment...|        86 Investigate|                NULL|                      NULL|962 Residential s...|92 Highway, parki...|0 Cause, other (O...|       71 Exposure fire|                     NULL|81 Heat from dire...|             84 Tire|                                  NULL|                NULL|            NULL|                NULL|       NULL|             NA|                                NULL|                                    NULL|                              NULL|                                NULL|             NULL|         NULL|                NULL|                  NULL|                   NULL|                                  NULL|                              NULL|                                    NULL|                                        NULL|                               NULL|                  3|             Nob Hill|POINT (-122.41388...|2023/05/19 04:56:...|2024/07/28 02:19:...|\n",
      "|       23082069|              2|230820692|       1308 18TH AVE|   2023/06/20|  231710279|2023/06/20 04:32:...|2023/06/20 04:38:...|2023/07/07 06:27:...|San Francisco|  94122|      B08|          22|7424|                3|                   10|        0|            0|          1|              1|               NULL|                   5000|                   NULL|              0|            0|                  0|                0|               1|131 Passenger veh...|    N None|11 Extinguishment...|        86 Investigate|                NULL|                      NULL|962 Residential s...|86 Exterior, expo...|0 Cause, other (O...|       71 Exposure fire|                     NULL|82 Radiated heat ...|00 Item first ign...|                                  NULL|                NULL|            NULL|                NULL|       NULL|             NA|                                NULL|                                    NULL|                              NULL|                                NULL|             NULL|         NULL|                NULL|                  NULL|                   NULL|                                  NULL|                              NULL|                                    NULL|                                        NULL|                               NULL|                  7|         Inner Sunset|POINT (-122.47595...|2023/07/07 09:34:...|2024/07/28 02:19:...|\n",
      "|       23082069|              3|230820693|       1308 18TH AVE|   2023/06/20|  231710279|2023/06/20 04:32:...|2023/06/20 04:38:...|2023/07/07 06:27:...|San Francisco|  94122|      B08|          22|7424|                3|                   10|        0|            0|          1|              1|               NULL|                   8000|                   NULL|              0|            0|                  0|                0|               1|   111 Building fire|    N None|11 Extinguishment...|        86 Investigate|                NULL|                      NULL|419 1 or 2 family...|76 Wall surface: ...|0 Cause, other (O...|       71 Exposure fire|                     NULL|81 Heat from dire...|12 Exterior sidew...|                                  NULL| 1 Enclosed building| 2 In normal use|                   1|       NULL|             NO|                                NULL|                                    NULL|                              NULL|                                NULL|   U Undetermined|         NULL|                NULL|                  NULL|                   NULL|                        U Undetermined|                              NULL|                                    NULL|                                        NULL|                               NULL|                  7|         Inner Sunset|POINT (-122.47595...|2023/07/07 09:34:...|2024/07/28 02:19:...|\n",
      "+---------------+---------------+---------+--------------------+-------------+-----------+--------------------+--------------------+--------------------+-------------+-------+---------+------------+----+-----------------+---------------------+---------+-------------+-----------+---------------+-------------------+-----------------------+-----------------------+---------------+-------------+-------------------+-----------------+----------------+--------------------+----------+--------------------+----------------------+--------------------+--------------------------+--------------------+--------------------+--------------------+-----------------------+-------------------------+--------------------+--------------------+--------------------------------------+--------------------+----------------+--------------------+-----------+---------------+------------------------------------+----------------------------------------+----------------------------------+------------------------------------+-----------------+-------------+--------------------+----------------------+-----------------------+--------------------------------------+----------------------------------+----------------------------------------+--------------------------------------------+-----------------------------------+-------------------+---------------------+--------------------+--------------------+--------------------+\n",
      "only showing top 20 rows\n",
      "\n"
     ]
    },
    {
     "name": "stderr",
     "output_type": "stream",
     "text": [
      "                                                                                \r"
     ]
    }
   ],
   "source": [
    "sf_fire_data.where(col(\"Exposure Number\") > 1).show()"
   ]
  },
  {
   "cell_type": "code",
   "execution_count": 19,
   "metadata": {},
   "outputs": [
    {
     "name": "stdout",
     "output_type": "stream",
     "text": [
      "+--------------------+\n",
      "|             Address|\n",
      "+--------------------+\n",
      "|        383 King St.|\n",
      "|       650 Faxon Av.|\n",
      "|Geary Bl. / Stein...|\n",
      "|    709 Shotwell St.|\n",
      "|        1550 Bay St.|\n",
      "|     680 Mission St.|\n",
      "|    670 Monterey Bl.|\n",
      "|        95 Cedar St.|\n",
      "|    1778 Mission St.|\n",
      "|    74 Crestline Dr.|\n",
      "|         698 2nd St.|\n",
      "|Franklin St. / Ge...|\n",
      "|Duboce Av. / Alpi...|\n",
      "|    1100 Peralta Av.|\n",
      "|Phelps St. / Carr...|\n",
      "|      1 Van Ness Av.|\n",
      "| 182 Chattanooga St.|\n",
      "| 1 280nb Mariposa Of|\n",
      "|      1801 Green St.|\n",
      "|Webster St. / Lom...|\n",
      "+--------------------+\n",
      "only showing top 20 rows\n",
      "\n"
     ]
    }
   ],
   "source": [
    "sf_fire_data.select(\"Address\").show()"
   ]
  },
  {
   "cell_type": "code",
   "execution_count": 20,
   "metadata": {},
   "outputs": [],
   "source": [
    "spark.stop()"
   ]
  },
  {
   "cell_type": "code",
   "execution_count": null,
   "metadata": {},
   "outputs": [],
   "source": []
  }
 ],
 "metadata": {
  "kernelspec": {
   "display_name": "sparkEnv",
   "language": "python",
   "name": "python3"
  },
  "language_info": {
   "codemirror_mode": {
    "name": "ipython",
    "version": 3
   },
   "file_extension": ".py",
   "mimetype": "text/x-python",
   "name": "python",
   "nbconvert_exporter": "python",
   "pygments_lexer": "ipython3",
   "version": "3.10.14"
  }
 },
 "nbformat": 4,
 "nbformat_minor": 2
}
