{
 "cells": [
  {
   "cell_type": "code",
   "execution_count": 153,
   "metadata": {},
   "outputs": [],
   "source": [
    "from pyspark.sql import SparkSession\n",
    "from pyspark import SparkConf, SparkContext\n",
    "import os\n",
    "from pyspark.sql.functions import col, to_date,date_format, to_timestamp\n",
    "from pyspark.sql.types import StructType, TimestampType, StringType, StructField, StringType, IntegerType, BooleanType, DateType,DoubleType"
   ]
  },
  {
   "cell_type": "code",
   "execution_count": 32,
   "metadata": {},
   "outputs": [],
   "source": [
    "spark = SparkSession.builder.master(\"local\").appName(\"Retail Analytics\").getOrCreate()"
   ]
  },
  {
   "cell_type": "code",
   "execution_count": 33,
   "metadata": {},
   "outputs": [
    {
     "data": {
      "text/html": [
       "\n",
       "            <div>\n",
       "                <p><b>SparkSession - in-memory</b></p>\n",
       "                \n",
       "        <div>\n",
       "            <p><b>SparkContext</b></p>\n",
       "\n",
       "            <p><a href=\"http://saurabh:4040\">Spark UI</a></p>\n",
       "\n",
       "            <dl>\n",
       "              <dt>Version</dt>\n",
       "                <dd><code>v3.5.1</code></dd>\n",
       "              <dt>Master</dt>\n",
       "                <dd><code>local</code></dd>\n",
       "              <dt>AppName</dt>\n",
       "                <dd><code>Retail Analytics</code></dd>\n",
       "            </dl>\n",
       "        </div>\n",
       "        \n",
       "            </div>\n",
       "        "
      ],
      "text/plain": [
       "<pyspark.sql.session.SparkSession at 0x776d0cc4a5c0>"
      ]
     },
     "execution_count": 33,
     "metadata": {},
     "output_type": "execute_result"
    }
   ],
   "source": [
    "spark"
   ]
  },
  {
   "cell_type": "code",
   "execution_count": 34,
   "metadata": {},
   "outputs": [
    {
     "data": {
      "text/plain": [
       "'/home/saurabh/Desktop/SparkStudy/Spark60Days'"
      ]
     },
     "execution_count": 34,
     "metadata": {},
     "output_type": "execute_result"
    }
   ],
   "source": [
    "BASE_PATH = os.getcwd()\n",
    "BASE_PATH"
   ]
  },
  {
   "cell_type": "code",
   "execution_count": 184,
   "metadata": {},
   "outputs": [],
   "source": [
    "schema = StructType([\n",
    "    StructField(\"Transaction_ID\", DoubleType(), True),\n",
    "    StructField(\"Customer_ID\", DoubleType(), True),\n",
    "    StructField(\"Name\", StringType(), True),\n",
    "    StructField(\"Email\", StringType(), True),\n",
    "    StructField(\"Phone\", StringType(), True),\n",
    "    StructField(\"Address\", StringType(), True),\n",
    "    StructField(\"City\", StringType(), True),\n",
    "    StructField(\"State\", StringType(), True),\n",
    "    StructField(\"Zipcode\", StringType(), True),\n",
    "    StructField(\"Country\", StringType(), True),\n",
    "    StructField(\"Age\", DoubleType(), True),\n",
    "    StructField(\"Gender\", StringType(), True),\n",
    "    StructField(\"Income\", StringType(), True),\n",
    "    StructField(\"Customer_Segment\", StringType(), True),\n",
    "    StructField(\"Date\", StringType(), True),\n",
    "    StructField(\"Year\", DoubleType(), True),\n",
    "    StructField(\"Month\", StringType(), True),\n",
    "    StructField(\"Time\", StringType(), True),\n",
    "    StructField(\"Total_Purchases\", DoubleType(), True),\n",
    "    StructField(\"Amount\", DoubleType(), True),\n",
    "    StructField(\"Total_Amount\", DoubleType(), True),\n",
    "    StructField(\"Product_Category\", StringType(), True),\n",
    "    StructField(\"Product_Brand\", StringType(), True),\n",
    "    StructField(\"Product_Type\", StringType(), True),\n",
    "    StructField(\"Feedback\", StringType(), True),\n",
    "    StructField(\"Shipping_Method\", StringType(), True),\n",
    "    StructField(\"Payment_Method\", StringType(), True),\n",
    "    StructField(\"Order_Status\", StringType(), True),\n",
    "    StructField(\"Ratings\", DoubleType(), True),\n",
    "    StructField(\"products\", StringType(), True),\n",
    "])"
   ]
  },
  {
   "cell_type": "code",
   "execution_count": 185,
   "metadata": {},
   "outputs": [],
   "source": [
    "retail = spark.read.format(\"csv\") \\\n",
    "    .option(\"header\", \"true\") \\\n",
    "    .option(\"dateFormat\", \"%d/%m/%y\") \\\n",
    "    .schema(schema) \\\n",
    "    .load(f\"file://{BASE_PATH}/data/new_retail_data.csv\")"
   ]
  },
  {
   "cell_type": "code",
   "execution_count": 186,
   "metadata": {},
   "outputs": [],
   "source": [
    "retail = retail.withColumn(\"Date\", to_date(col(\"Date\"), \"M/d/yyyy\")) \\\n",
    "    .withColumn(\"Time\", date_format(to_timestamp(col(\"Time\"), \"H:mm:ss\"), \"H:mm:ss\"))"
   ]
  },
  {
   "cell_type": "code",
   "execution_count": 187,
   "metadata": {},
   "outputs": [
    {
     "name": "stdout",
     "output_type": "stream",
     "text": [
      "+--------------+-----------+-------------------+-------------------+------------+--------------------+----------+---------------+-------+---------+----+------+------+----------------+----------+------+---------+--------+---------------+-----------+------------+----------------+-------------+------------+---------+---------------+--------------+------------+-------+-----------------+\n",
      "|Transaction_ID|Customer_ID|               Name|              Email|       Phone|             Address|      City|          State|Zipcode|  Country| Age|Gender|Income|Customer_Segment|      Date|  Year|    Month|    Time|Total_Purchases|     Amount|Total_Amount|Product_Category|Product_Brand|Product_Type| Feedback|Shipping_Method|Payment_Method|Order_Status|Ratings|         products|\n",
      "+--------------+-----------+-------------------+-------------------+------------+--------------------+----------+---------------+-------+---------+----+------+------+----------------+----------+------+---------+--------+---------------+-----------+------------+----------------+-------------+------------+---------+---------------+--------------+------------+-------+-----------------+\n",
      "|     8691788.0|    37249.0|Michelle Harrington|  Ebony39@gmail.com|1414786801.0|   3959 Amanda Burgs|  Dortmund|         Berlin|77985.0|  Germany|21.0|  Male|   Low|         Regular|2023-09-18|2023.0|September|22:03:55|            3.0|108.0287567|   324.08627|        Clothing|         Nike|      Shorts|Excellent|       Same-Day|    Debit Card|     Shipped|    5.0|   Cycling shorts|\n",
      "|     2174773.0|    69749.0|        Kelsey Hill|   Mark36@gmail.com|6852899987.0|  82072 Dawn Centers|Nottingham|        England|99071.0|       UK|19.0|Female|   Low|         Premium|2023-12-31|2023.0| December| 8:42:04|            2.0|403.3539073| 806.7078147|     Electronics|      Samsung|      Tablet|Excellent|       Standard|   Credit Card|  Processing|    4.0|       Lenovo Tab|\n",
      "|     6679610.0|    30192.0|       Scott Jensen|  Shane85@gmail.com|8362160449.0|   4133 Young Canyon|   Geelong|New South Wales|75929.0|Australia|48.0|  Male|   Low|         Regular|2023-04-26|2023.0|    April| 4:06:29|            3.0|354.4775997| 1063.432799|           Books|Penguin Books|  Children's|  Average|       Same-Day|   Credit Card|  Processing|    2.0| Sports equipment|\n",
      "|     7232460.0|    62101.0|      Joseph Miller|   Mary34@gmail.com|2776751724.0|8148 Thomas Creek...|  Edmonton|        Ontario|88420.0|   Canada|56.0|  Male|  High|         Premium|2023-05-08|2023.0|      May|14:55:17|            7.0|352.4077173| 2466.854021|      Home Decor|   Home Depot|       Tools|Excellent|       Standard|        PayPal|  Processing|    4.0|    Utility knife|\n",
      "|     4983775.0|    27901.0|      Debra Coleman|Charles30@gmail.com|9098267635.0|5813 Lori Ports S...|   Bristol|        England|48704.0|       UK|22.0|  Male|   Low|         Premium|2024-01-10|2024.0|  January|16:54:07|            2.0|124.2765245| 248.5530491|         Grocery|       Nestle|   Chocolate|      Bad|       Standard|          Cash|     Shipped|    1.0|Chocolate cookies|\n",
      "|     6095326.0|    41289.0|       Ryan Johnson|  Haley12@gmail.com|3292677006.0|532 Ashley Crest ...|  Brisbane|New South Wales|74430.0|Australia|58.0|Female|Medium|         Premium|2023-09-21|2023.0|September|23:24:27|            4.0|296.2918059| 1185.167224|     Electronics|        Apple|      Tablet|     Good|        Express|        PayPal|     Pending|    4.0|       Lenovo Tab|\n",
      "|     5434096.0|    97285.0|         Erin Lewis| Arthur76@gmail.com|1578355423.0|600 Brian Prairie...| Kitchener|        Ontario|47545.0|   Canada|29.0|Female|   Low|             New|2023-06-26|2023.0|     June|13:35:51|            2.0|315.0576476| 630.1152951|     Electronics|      Samsung|  Television|      Bad|       Standard|          Cash|  Processing|    1.0|          QLED TV|\n",
      "|     2344675.0|    26603.0|      Angela Fields|  Tanya94@gmail.com|3668096144.0|     237 Young Curve|    Munich|         Berlin|86862.0|  Germany|29.0|  Male|Medium|         Premium|2023-03-24|2023.0|    March|10:12:56|            1.0|46.58807038| 46.58807038|        Clothing|         Zara|       Shirt|      Bad|       Same-Day|          Cash|  Processing|    1.0|      Dress shirt|\n",
      "|     4155845.0|    80175.0|        Diane Clark| Martin39@gmail.com|6219779557.0|8823 Mariah Heigh...|Wollongong|New South Wales|39820.0|Australia|46.0|  Male|Medium|             New|2024-01-06|2024.0|  January|14:38:26|            8.0|328.8393017| 2630.714413|         Grocery|       Nestle|   Chocolate|      Bad|       Same-Day|          Cash|   Delivered|    1.0|   Dark chocolate|\n",
      "|     4926148.0|    31878.0|          Lori Bell|Jessica33@gmail.com|6004895059.0|  6225 William Lodge|   Cologne|         Berlin|64317.0|  Germany|25.0|  Male|Medium|             New|2023-10-04|2023.0|  October|22:27:40|           10.0|397.6112295| 3976.112295|      Home Decor|   Home Depot| Decorations|Excellent|       Standard|          Cash|   Delivered|    4.0|          Candles|\n",
      "+--------------+-----------+-------------------+-------------------+------------+--------------------+----------+---------------+-------+---------+----+------+------+----------------+----------+------+---------+--------+---------------+-----------+------------+----------------+-------------+------------+---------+---------------+--------------+------------+-------+-----------------+\n",
      "only showing top 10 rows\n",
      "\n"
     ]
    }
   ],
   "source": [
    "retail.show(10)"
   ]
  },
  {
   "cell_type": "code",
   "execution_count": 188,
   "metadata": {},
   "outputs": [
    {
     "name": "stdout",
     "output_type": "stream",
     "text": [
      "root\n",
      " |-- Transaction_ID: double (nullable = true)\n",
      " |-- Customer_ID: double (nullable = true)\n",
      " |-- Name: string (nullable = true)\n",
      " |-- Email: string (nullable = true)\n",
      " |-- Phone: string (nullable = true)\n",
      " |-- Address: string (nullable = true)\n",
      " |-- City: string (nullable = true)\n",
      " |-- State: string (nullable = true)\n",
      " |-- Zipcode: string (nullable = true)\n",
      " |-- Country: string (nullable = true)\n",
      " |-- Age: double (nullable = true)\n",
      " |-- Gender: string (nullable = true)\n",
      " |-- Income: string (nullable = true)\n",
      " |-- Customer_Segment: string (nullable = true)\n",
      " |-- Date: date (nullable = true)\n",
      " |-- Year: double (nullable = true)\n",
      " |-- Month: string (nullable = true)\n",
      " |-- Time: string (nullable = true)\n",
      " |-- Total_Purchases: double (nullable = true)\n",
      " |-- Amount: double (nullable = true)\n",
      " |-- Total_Amount: double (nullable = true)\n",
      " |-- Product_Category: string (nullable = true)\n",
      " |-- Product_Brand: string (nullable = true)\n",
      " |-- Product_Type: string (nullable = true)\n",
      " |-- Feedback: string (nullable = true)\n",
      " |-- Shipping_Method: string (nullable = true)\n",
      " |-- Payment_Method: string (nullable = true)\n",
      " |-- Order_Status: string (nullable = true)\n",
      " |-- Ratings: double (nullable = true)\n",
      " |-- products: string (nullable = true)\n",
      "\n"
     ]
    }
   ],
   "source": [
    "retail.printSchema()"
   ]
  },
  {
   "cell_type": "code",
   "execution_count": 191,
   "metadata": {},
   "outputs": [],
   "source": [
    "state1 = retail.filter((col(\"State\") == 'Berlin') & (col(\"Age\") > 20) & (col(\"Date\") > \"2023\") & (col(\"Month\") == 'January'))"
   ]
  },
  {
   "cell_type": "code",
   "execution_count": 196,
   "metadata": {},
   "outputs": [
    {
     "name": "stderr",
     "output_type": "stream",
     "text": [
      "[Stage 55:>                                                         (0 + 1) / 1]\r"
     ]
    },
    {
     "name": "stdout",
     "output_type": "stream",
     "text": [
      "+------+-----+\n",
      "|Gender|count|\n",
      "+------+-----+\n",
      "|  NULL|    2|\n",
      "|Female| 1070|\n",
      "|  Male| 3238|\n",
      "+------+-----+\n",
      "\n"
     ]
    },
    {
     "name": "stderr",
     "output_type": "stream",
     "text": [
      "                                                                                \r"
     ]
    }
   ],
   "source": [
    "state1.groupBy(col(\"Gender\")).count().show()"
   ]
  },
  {
   "cell_type": "markdown",
   "metadata": {},
   "source": [
    "### "
   ]
  },
  {
   "cell_type": "code",
   "execution_count": null,
   "metadata": {},
   "outputs": [],
   "source": []
  }
 ],
 "metadata": {
  "kernelspec": {
   "display_name": "sparkEnv",
   "language": "python",
   "name": "python3"
  },
  "language_info": {
   "codemirror_mode": {
    "name": "ipython",
    "version": 3
   },
   "file_extension": ".py",
   "mimetype": "text/x-python",
   "name": "python",
   "nbconvert_exporter": "python",
   "pygments_lexer": "ipython3",
   "version": "3.10.14"
  }
 },
 "nbformat": 4,
 "nbformat_minor": 2
}
