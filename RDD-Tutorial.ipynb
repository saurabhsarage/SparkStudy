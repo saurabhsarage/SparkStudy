{
 "cells": [
  {
   "cell_type": "code",
   "execution_count": 89,
   "id": "0fc3f0aa-ab31-4479-b5ce-7cbe18b81996",
   "metadata": {},
   "outputs": [],
   "source": [
    "from pyspark import SparkConf, SparkContext,sql"
   ]
  },
  {
   "cell_type": "code",
   "execution_count": 11,
   "id": "e227d26a-0b5e-4172-bdfd-9e7dd03b5fa5",
   "metadata": {},
   "outputs": [],
   "source": [
    "sc = SparkContext(\"local\", \"Test\")"
   ]
  },
  {
   "cell_type": "code",
   "execution_count": 12,
   "id": "efa54caf-565b-44ed-9133-5d310b354cbd",
   "metadata": {},
   "outputs": [
    {
     "data": {
      "text/html": [
       "\n",
       "        <div>\n",
       "            <p><b>SparkContext</b></p>\n",
       "\n",
       "            <p><a href=\"http://saurabh:4040\">Spark UI</a></p>\n",
       "\n",
       "            <dl>\n",
       "              <dt>Version</dt>\n",
       "                <dd><code>v3.5.1</code></dd>\n",
       "              <dt>Master</dt>\n",
       "                <dd><code>local</code></dd>\n",
       "              <dt>AppName</dt>\n",
       "                <dd><code>Test</code></dd>\n",
       "            </dl>\n",
       "        </div>\n",
       "        "
      ],
      "text/plain": [
       "<SparkContext master=local appName=Test>"
      ]
     },
     "execution_count": 12,
     "metadata": {},
     "output_type": "execute_result"
    }
   ],
   "source": [
    "sc"
   ]
  },
  {
   "cell_type": "code",
   "execution_count": 33,
   "id": "cb3bf3d6-38ac-44a0-8f6a-a7929e077732",
   "metadata": {},
   "outputs": [],
   "source": [
    "rdd = sc.textFile(\"file:///home/saurabh/Desktop/test/DataSets/SampleText.txt\")"
   ]
  },
  {
   "cell_type": "code",
   "execution_count": 34,
   "id": "6fd51eca-d828-4c6a-9c25-0a86da4bc3f9",
   "metadata": {},
   "outputs": [
    {
     "data": {
      "text/plain": [
       "['word count from Wikipedia the free encyclopedia',\n",
       " 'the word count is the number of words in a document or passage of text Word counting may be needed when a text',\n",
       " 'is required to stay within certain numbers of words This may particularly be the case in academia legal',\n",
       " 'proceedings journalism and advertising Word count is commonly used by translators to determine the price for',\n",
       " 'the translation job Word counts may also be used to calculate measures of readability and to measure typing']"
      ]
     },
     "execution_count": 34,
     "metadata": {},
     "output_type": "execute_result"
    }
   ],
   "source": [
    "rdd.take(5)"
   ]
  },
  {
   "cell_type": "code",
   "execution_count": 35,
   "id": "78d227a6-95cf-49b6-bc32-93a6194c7228",
   "metadata": {},
   "outputs": [],
   "source": [
    "def lowerFunc(lines):\n",
    "    line = lines.lower()\n",
    "    lines = lines.split()\n",
    "    return lines\n",
    "rdd1 = rdd.map(lowerFunc)"
   ]
  },
  {
   "cell_type": "code",
   "execution_count": 36,
   "id": "2d53b93c-b52b-42eb-ac4c-b4983ba0d2ce",
   "metadata": {},
   "outputs": [
    {
     "data": {
      "text/plain": [
       "[['word', 'count', 'from', 'Wikipedia', 'the', 'free', 'encyclopedia'],\n",
       " ['the',\n",
       "  'word',\n",
       "  'count',\n",
       "  'is',\n",
       "  'the',\n",
       "  'number',\n",
       "  'of',\n",
       "  'words',\n",
       "  'in',\n",
       "  'a',\n",
       "  'document',\n",
       "  'or',\n",
       "  'passage',\n",
       "  'of',\n",
       "  'text',\n",
       "  'Word',\n",
       "  'counting',\n",
       "  'may',\n",
       "  'be',\n",
       "  'needed',\n",
       "  'when',\n",
       "  'a',\n",
       "  'text'],\n",
       " ['is',\n",
       "  'required',\n",
       "  'to',\n",
       "  'stay',\n",
       "  'within',\n",
       "  'certain',\n",
       "  'numbers',\n",
       "  'of',\n",
       "  'words',\n",
       "  'This',\n",
       "  'may',\n",
       "  'particularly',\n",
       "  'be',\n",
       "  'the',\n",
       "  'case',\n",
       "  'in',\n",
       "  'academia',\n",
       "  'legal'],\n",
       " ['proceedings',\n",
       "  'journalism',\n",
       "  'and',\n",
       "  'advertising',\n",
       "  'Word',\n",
       "  'count',\n",
       "  'is',\n",
       "  'commonly',\n",
       "  'used',\n",
       "  'by',\n",
       "  'translators',\n",
       "  'to',\n",
       "  'determine',\n",
       "  'the',\n",
       "  'price',\n",
       "  'for'],\n",
       " ['the',\n",
       "  'translation',\n",
       "  'job',\n",
       "  'Word',\n",
       "  'counts',\n",
       "  'may',\n",
       "  'also',\n",
       "  'be',\n",
       "  'used',\n",
       "  'to',\n",
       "  'calculate',\n",
       "  'measures',\n",
       "  'of',\n",
       "  'readability',\n",
       "  'and',\n",
       "  'to',\n",
       "  'measure',\n",
       "  'typing']]"
      ]
     },
     "execution_count": 36,
     "metadata": {},
     "output_type": "execute_result"
    }
   ],
   "source": [
    "rdd1.take(5)"
   ]
  },
  {
   "cell_type": "code",
   "execution_count": 37,
   "id": "ee9c20f4-8990-467c-80cc-c0f36f9cf338",
   "metadata": {},
   "outputs": [],
   "source": [
    "rdd2 = rdd.flatMap(lowerFunc)"
   ]
  },
  {
   "cell_type": "code",
   "execution_count": 38,
   "id": "c67911bb-f315-4b19-b7d5-ff165e78aaef",
   "metadata": {},
   "outputs": [
    {
     "data": {
      "text/plain": [
       "['word', 'count', 'from', 'Wikipedia', 'the']"
      ]
     },
     "execution_count": 38,
     "metadata": {},
     "output_type": "execute_result"
    }
   ],
   "source": [
    "rdd2.take(5)"
   ]
  },
  {
   "cell_type": "code",
   "execution_count": 42,
   "id": "b57a080f-87cb-4734-a7bb-58051ded395f",
   "metadata": {},
   "outputs": [
    {
     "data": {
      "text/plain": [
       "['word',\n",
       " 'count',\n",
       " 'Wikipedia',\n",
       " 'free',\n",
       " 'encyclopedia',\n",
       " 'word',\n",
       " 'count',\n",
       " 'number',\n",
       " 'words',\n",
       " 'document',\n",
       " 'or',\n",
       " 'passage']"
      ]
     },
     "execution_count": 42,
     "metadata": {},
     "output_type": "execute_result"
    }
   ],
   "source": [
    "stopWords = ['a', 'all', 'the', 'as', 'is', 'am', 'an', 'and', 'been', 'be', 'from', 'had', 'in', 'of']\n",
    "rdd3= rdd2.filter(lambda x : x not in stopWords)\n",
    "rdd3.take(12)"
   ]
  },
  {
   "cell_type": "code",
   "execution_count": 47,
   "id": "eedec4bb-a16d-4fb3-a6eb-afc7554c7208",
   "metadata": {},
   "outputs": [
    {
     "name": "stdout",
     "output_type": "stream",
     "text": [
      "[('wor', ['word', 'word', 'words', 'words', 'words', 'words', 'word', 'words', 'word', 'words', 'word', 'word', 'word', 'word', 'word', 'word', 'word', 'words', 'word', 'words', 'word', 'word', 'word', 'words', 'words', 'word', 'word', 'workers', 'word', 'word', 'word', 'words', 'word', 'word', 'words', 'words', 'words', 'work', 'words', 'word', 'words', 'word', 'words', 'words', 'words', 'words', 'words']), ('cou', ['count', 'count', 'counting', 'count', 'counts', 'counts', 'count', 'counts', 'count', 'counting', 'counted', 'count', 'counted', 'counting', 'count', 'count', 'count', 'counting', 'count', 'counting', 'counting', 'could', 'count']), ('Wik', ['Wikipedia']), ('fre', ['free']), ('enc', ['encyclopedia']), ('num', ['number', 'numbers', 'number', 'number']), ('doc', ['document', 'documents', 'document']), ('or', ['or', 'or', 'or', 'or', 'or', 'or', 'or', 'or', 'or', 'or', 'or']), ('pas', ['passage']), ('tex', ['text', 'text', 'text', 'text', 'text', 'text)', 'text', 'text', 'text'])]\n"
     ]
    }
   ],
   "source": [
    "rdd4 = rdd3.groupBy(lambda w: w[0:3])\n",
    "print([(k, list(v)) for (k,v) in rdd4.take(10)])"
   ]
  },
  {
   "cell_type": "code",
   "execution_count": 48,
   "id": "b17fe7e1-c2be-45a6-9ee8-4248e9821b22",
   "metadata": {},
   "outputs": [
    {
     "data": {
      "text/plain": [
       "49995000"
      ]
     },
     "execution_count": 48,
     "metadata": {},
     "output_type": "execute_result"
    }
   ],
   "source": [
    "num_rdd = sc.parallelize(range(1, 10000))\n",
    "num_rdd.reduce(lambda x, y : x + y)"
   ]
  },
  {
   "cell_type": "code",
   "execution_count": 49,
   "id": "b9c89edd-f882-457c-9cd9-791eeb1bdf22",
   "metadata": {},
   "outputs": [],
   "source": [
    "from pyspark.sql import SparkSession"
   ]
  },
  {
   "cell_type": "code",
   "execution_count": 59,
   "id": "465dc796-8f89-4a30-aa96-2f45a12ae34e",
   "metadata": {},
   "outputs": [
    {
     "name": "stderr",
     "output_type": "stream",
     "text": [
      "24/05/05 17:03:58 WARN Utils: Service 'SparkUI' could not bind on port 4040. Attempting port 4041.\n"
     ]
    }
   ],
   "source": [
    "spark = SparkSession.builder.appName(\"PySparkShell\").getOrCreate()"
   ]
  },
  {
   "cell_type": "code",
   "execution_count": 67,
   "id": "83af8448-25eb-414a-8796-8257e0af883e",
   "metadata": {},
   "outputs": [
    {
     "name": "stderr",
     "output_type": "stream",
     "text": [
      "                                                                                \r"
     ]
    }
   ],
   "source": [
    "nyFlightsDF = spark.read.csv(\"file:///home/saurabh/Desktop/test/DataSets/FlightData/flight_data.csv\", inferSchema=True, header=True)"
   ]
  },
  {
   "cell_type": "code",
   "execution_count": 68,
   "id": "f2c31c89-010e-4530-ab38-caf2776964ba",
   "metadata": {},
   "outputs": [
    {
     "name": "stdout",
     "output_type": "stream",
     "text": [
      "root\n",
      " |-- year: integer (nullable = true)\n",
      " |-- month: integer (nullable = true)\n",
      " |-- day: integer (nullable = true)\n",
      " |-- dep_time: string (nullable = true)\n",
      " |-- sched_dep_time: integer (nullable = true)\n",
      " |-- dep_delay: string (nullable = true)\n",
      " |-- arr_time: string (nullable = true)\n",
      " |-- sched_arr_time: integer (nullable = true)\n",
      " |-- arr_delay: string (nullable = true)\n",
      " |-- carrier: string (nullable = true)\n",
      " |-- flight: integer (nullable = true)\n",
      " |-- tailnum: string (nullable = true)\n",
      " |-- origin: string (nullable = true)\n",
      " |-- dest: string (nullable = true)\n",
      " |-- air_time: string (nullable = true)\n",
      " |-- distance: integer (nullable = true)\n",
      " |-- hour: integer (nullable = true)\n",
      " |-- minute: integer (nullable = true)\n",
      " |-- time_hour: string (nullable = true)\n",
      "\n"
     ]
    }
   ],
   "source": [
    "nyFlightsDF.printSchema()"
   ]
  },
  {
   "cell_type": "code",
   "execution_count": 69,
   "id": "7db3ebc7-1bd4-493f-892c-24c5d3fb9cd7",
   "metadata": {},
   "outputs": [
    {
     "data": {
      "text/plain": [
       "336776"
      ]
     },
     "execution_count": 69,
     "metadata": {},
     "output_type": "execute_result"
    }
   ],
   "source": [
    "nyFlightsDF.count()"
   ]
  },
  {
   "cell_type": "code",
   "execution_count": 70,
   "id": "cac54fee-4691-4637-b727-eaab713ede4d",
   "metadata": {},
   "outputs": [
    {
     "name": "stdout",
     "output_type": "stream",
     "text": [
      "+------+------+----+--------+\n",
      "|flight|origin|dest|distance|\n",
      "+------+------+----+--------+\n",
      "|  1545|   EWR| IAH|    1400|\n",
      "|  1714|   LGA| IAH|    1416|\n",
      "|  1141|   JFK| MIA|    1089|\n",
      "|   725|   JFK| BQN|    1576|\n",
      "|   461|   LGA| ATL|     762|\n",
      "|  1696|   EWR| ORD|     719|\n",
      "|   507|   EWR| FLL|    1065|\n",
      "|  5708|   LGA| IAD|     229|\n",
      "|    79|   JFK| MCO|     944|\n",
      "|   301|   LGA| ORD|     733|\n",
      "|    49|   JFK| PBI|    1028|\n",
      "|    71|   JFK| TPA|    1005|\n",
      "|   194|   JFK| LAX|    2475|\n",
      "|  1124|   EWR| SFO|    2565|\n",
      "|   707|   LGA| DFW|    1389|\n",
      "|  1806|   JFK| BOS|     187|\n",
      "|  1187|   EWR| LAS|    2227|\n",
      "|   371|   LGA| FLL|    1076|\n",
      "|  4650|   LGA| ATL|     762|\n",
      "|   343|   EWR| PBI|    1023|\n",
      "+------+------+----+--------+\n",
      "only showing top 20 rows\n",
      "\n"
     ]
    }
   ],
   "source": [
    "nyFlightsDF.select(['flight', 'origin', 'dest', 'distance']).show()"
   ]
  },
  {
   "cell_type": "code",
   "execution_count": 71,
   "id": "53ea4637-46bf-4286-a3a6-9f8f8d448336",
   "metadata": {},
   "outputs": [
    {
     "name": "stderr",
     "output_type": "stream",
     "text": [
      "[Stage 13:==============>                                           (1 + 3) / 4]\r"
     ]
    },
    {
     "name": "stdout",
     "output_type": "stream",
     "text": [
      "+-------+------------------+\n",
      "|summary|          distance|\n",
      "+-------+------------------+\n",
      "|  count|            336776|\n",
      "|   mean|1039.9126036297123|\n",
      "| stddev| 733.2330333236766|\n",
      "|    min|                17|\n",
      "|    max|              4983|\n",
      "+-------+------------------+\n",
      "\n"
     ]
    },
    {
     "name": "stderr",
     "output_type": "stream",
     "text": [
      "                                                                                \r"
     ]
    }
   ],
   "source": [
    "nyFlightsDF.describe('distance').show()"
   ]
  },
  {
   "cell_type": "code",
   "execution_count": 72,
   "id": "3447acdc-0c7f-4ca5-aaa0-1a0c87887c44",
   "metadata": {},
   "outputs": [
    {
     "name": "stdout",
     "output_type": "stream",
     "text": [
      "+----+-----+---+--------+--------------+---------+--------+--------------+---------+-------+------+-------+------+----+--------+--------+----+------+----------------+\n",
      "|year|month|day|dep_time|sched_dep_time|dep_delay|arr_time|sched_arr_time|arr_delay|carrier|flight|tailnum|origin|dest|air_time|distance|hour|minute|       time_hour|\n",
      "+----+-----+---+--------+--------------+---------+--------+--------------+---------+-------+------+-------+------+----+--------+--------+----+------+----------------+\n",
      "|2013|    7| 27|      NA|           106|       NA|      NA|           245|       NA|     US|  1632|     NA|   EWR| LGA|      NA|      17|   1|     6|27-07-2013 01:00|\n",
      "+----+-----+---+--------+--------------+---------+--------+--------------+---------+-------+------+-------+------+----+--------+--------+----+------+----------------+\n",
      "\n"
     ]
    }
   ],
   "source": [
    "nyFlightsDF.filter(nyFlightsDF.distance == 17).show()"
   ]
  },
  {
   "cell_type": "code",
   "execution_count": 87,
   "id": "c0143a6c-6c2f-44c9-a84c-f81fae7c34fe",
   "metadata": {},
   "outputs": [
    {
     "name": "stdout",
     "output_type": "stream",
     "text": [
      "+----+-----+---+--------+--------------+---------+--------+--------------+---------+-------+------+-------+------+----+--------+--------+----+------+-------------+\n",
      "|year|month|day|dep_time|sched_dep_time|dep_delay|arr_time|sched_arr_time|arr_delay|carrier|flight|tailnum|origin|dest|air_time|distance|hour|minute|    time_hour|\n",
      "+----+-----+---+--------+--------------+---------+--------+--------------+---------+-------+------+-------+------+----+--------+--------+----+------+-------------+\n",
      "|2013|    1|  1|     517|           515|        2|     830|           819|       11|     UA|  1545| N14228|   EWR| IAH|     227|    1400|   5|    15|1/1/2013 5:00|\n",
      "|2013|    1|  1|     554|           558|       -4|     740|           728|       12|     UA|  1696| N39463|   EWR| ORD|     150|     719|   5|    58|1/1/2013 5:00|\n",
      "|2013|    1|  1|     555|           600|       -5|     913|           854|       19|     B6|   507| N516JB|   EWR| FLL|     158|    1065|   6|     0|1/1/2013 6:00|\n",
      "|2013|    1|  1|     558|           600|       -2|     923|           937|      -14|     UA|  1124| N53441|   EWR| SFO|     361|    2565|   6|     0|1/1/2013 6:00|\n",
      "|2013|    1|  1|     559|           600|       -1|     854|           902|       -8|     UA|  1187| N76515|   EWR| LAS|     337|    2227|   6|     0|1/1/2013 6:00|\n",
      "|2013|    1|  1|     601|           600|        1|     844|           850|       -6|     B6|   343| N644JB|   EWR| PBI|     147|    1023|   6|     0|1/1/2013 6:00|\n",
      "|2013|    1|  1|     606|           610|       -4|     858|           910|      -12|     AA|  1895| N633AA|   EWR| MIA|     152|    1085|   6|    10|1/1/2013 6:00|\n",
      "|2013|    1|  1|     607|           607|        0|     858|           915|      -17|     UA|  1077| N53442|   EWR| MIA|     157|    1085|   6|     7|1/1/2013 6:00|\n",
      "|2013|    1|  1|     608|           600|        8|     807|           735|       32|     MQ|  3768| N9EAMQ|   EWR| ORD|     139|     719|   6|     0|1/1/2013 6:00|\n",
      "|2013|    1|  1|     615|           615|        0|     833|           842|       -9|     DL|   575| N326NB|   EWR| ATL|     120|     746|   6|    15|1/1/2013 6:00|\n",
      "|2013|    1|  1|     622|           630|       -8|    1017|          1014|        3|     US|   245| N807AW|   EWR| PHX|     342|    2133|   6|    30|1/1/2013 6:00|\n",
      "|2013|    1|  1|     624|           630|       -6|     909|           840|       29|     EV|  4626| N11107|   EWR| MSP|     190|    1008|   6|    30|1/1/2013 6:00|\n",
      "|2013|    1|  1|     628|           630|       -2|    1016|           947|       29|     UA|  1665| N33289|   EWR| LAX|     366|    2454|   6|    30|1/1/2013 6:00|\n",
      "|2013|    1|  1|     629|           630|       -1|     824|           833|       -9|     US|  1019| N426US|   EWR| CLT|      91|     529|   6|    30|1/1/2013 6:00|\n",
      "|2013|    1|  1|     632|           608|       24|     740|           728|       12|     EV|  4144| N13553|   EWR| IAD|      52|     212|   6|     8|1/1/2013 6:00|\n",
      "|2013|    1|  1|     643|           646|       -3|     922|           940|      -18|     UA|   556| N497UA|   EWR| PBI|     146|    1023|   6|    46|1/1/2013 6:00|\n",
      "|2013|    1|  1|     643|           645|       -2|     837|           848|      -11|     US|   926| N178US|   EWR| CLT|      91|     529|   6|    45|1/1/2013 6:00|\n",
      "|2013|    1|  1|     644|           636|        8|     931|           940|       -9|     UA|  1701| N75435|   EWR| FLL|     151|    1065|   6|    36|1/1/2013 6:00|\n",
      "|2013|    1|  1|     646|           645|        1|    1023|          1030|       -7|     UA|  1496| N38727|   EWR| SNA|     380|    2434|   6|    45|1/1/2013 6:00|\n",
      "|2013|    1|  1|     656|           700|       -4|     948|          1011|      -23|     UA|  1115| N24212|   EWR| TPA|     156|     997|   7|     0|1/1/2013 7:00|\n",
      "+----+-----+---+--------+--------------+---------+--------+--------------+---------+-------+------+-------+------+----+--------+--------+----+------+-------------+\n",
      "only showing top 20 rows\n",
      "\n"
     ]
    }
   ],
   "source": [
    "nyFlightsDF.filter(nyFlightsDF.origin == 'EWR').show()"
   ]
  },
  {
   "cell_type": "code",
   "execution_count": 88,
   "id": "76a8f541-c886-4e68-8f6b-7dc2d01833bb",
   "metadata": {},
   "outputs": [
    {
     "name": "stdout",
     "output_type": "stream",
     "text": [
      "+----+-----+---+--------+--------------+---------+--------+--------------+---------+-------+------+-------+------+----+--------+--------+----+------+-------------+\n",
      "|year|month|day|dep_time|sched_dep_time|dep_delay|arr_time|sched_arr_time|arr_delay|carrier|flight|tailnum|origin|dest|air_time|distance|hour|minute|    time_hour|\n",
      "+----+-----+---+--------+--------------+---------+--------+--------------+---------+-------+------+-------+------+----+--------+--------+----+------+-------------+\n",
      "|2013|    1|  2|     535|           540|       -5|     831|           850|      -19|     AA|  1141| N621AA|   JFK| MIA|     156|    1089|   5|    40|2/1/2013 5:00|\n",
      "|2013|    1|  2|     539|           545|       -6|     959|          1022|      -23|     B6|   725| N624JB|   JFK| BQN|     184|    1576|   5|    45|2/1/2013 5:00|\n",
      "|2013|    1|  2|     554|           600|       -6|     845|           901|      -16|     B6|   125| N637JB|   JFK| FLL|     156|    1069|   6|     0|2/1/2013 6:00|\n",
      "|2013|    1|  2|     554|           600|       -6|     841|           851|      -10|     B6|    49| N658JB|   JFK| PBI|     146|    1028|   6|     0|2/1/2013 6:00|\n",
      "|2013|    1|  2|     558|           600|       -2|     916|           931|      -15|     UA|   303| N505UA|   JFK| SFO|     341|    2586|   6|     0|2/1/2013 6:00|\n",
      "|2013|    1|  2|     612|           615|       -3|    1053|          1100|       -7|     B6|   709| N629JB|   JFK| SJU|     191|    1598|   6|    15|2/1/2013 6:00|\n",
      "|2013|    1|  2|     637|           630|        7|    1012|          1018|       -6|     US|    27| N545UW|   JFK| PHX|     312|    2153|   6|    30|2/1/2013 6:00|\n",
      "|2013|    1|  2|     640|           640|        0|     732|           749|      -17|     B6|  1002| N807JB|   JFK| BOS|      34|     187|   6|    40|2/1/2013 6:00|\n",
      "|2013|    1|  2|     641|           647|       -6|     804|           810|       -6|     B6|   102| N766JB|   JFK| BUF|      60|     301|   6|    47|2/1/2013 6:00|\n",
      "|2013|    1|  2|     649|           655|       -6|     951|          1030|      -39|     DL|  1415| N374DA|   JFK| SLC|     274|    1990|   6|    55|2/1/2013 6:00|\n",
      "|2013|    1|  2|     654|           700|       -6|     946|          1045|      -59|     DL|  1865| N711ZX|   JFK| SFO|     323|    2586|   7|     0|2/1/2013 7:00|\n",
      "|2013|    1|  2|     655|           659|       -4|     955|           959|       -4|     AA|  1815| N5EUAA|   JFK| MCO|     144|     944|   6|    59|2/1/2013 6:00|\n",
      "|2013|    1|  2|     655|           655|        0|     929|           942|      -13|     B6|   203| N651JB|   JFK| LAS|     297|    2248|   6|    55|2/1/2013 6:00|\n",
      "|2013|    1|  2|     655|           700|       -5|    1031|          1034|       -3|     DL|   763| N705TW|   JFK| LAX|     317|    2475|   7|     0|2/1/2013 7:00|\n",
      "|2013|    1|  2|     659|           700|       -1|     959|          1025|      -26|     VX|   399| N626VA|   JFK| LAX|     330|    2475|   7|     0|2/1/2013 7:00|\n",
      "|2013|    1|  2|     707|           715|       -8|    1022|          1045|      -23|     AA|   443| N3HYAA|   JFK| MIA|     160|    1089|   7|    15|2/1/2013 7:00|\n",
      "|2013|    1|  2|     709|           700|        9|    1006|          1014|       -8|     B6|   671| N583JB|   JFK| LAX|     327|    2475|   7|     0|2/1/2013 7:00|\n",
      "|2013|    1|  2|     714|           715|       -1|    1026|          1035|       -9|     AA|   825| N3BAAA|   JFK| FLL|     161|    1069|   7|    15|2/1/2013 7:00|\n",
      "|2013|    1|  2|     715|           715|        0|    1047|          1112|      -25|     UA|   223| N517UA|   JFK| SFO|     341|    2586|   7|    15|2/1/2013 7:00|\n",
      "|2013|    1|  2|     724|           730|       -6|    1039|          1115|      -36|     VX|    11| N847VA|   JFK| SFO|     344|    2586|   7|    30|2/1/2013 7:00|\n",
      "+----+-----+---+--------+--------------+---------+--------+--------------+---------+-------+------+-------+------+----+--------+--------+----+------+-------------+\n",
      "only showing top 20 rows\n",
      "\n"
     ]
    }
   ],
   "source": [
    "nyFlightsDF.where((nyFlightsDF.day == 2) & (nyFlightsDF.origin == 'JFK') & (nyFlightsDF.arr_delay < 0)).show()"
   ]
  },
  {
   "cell_type": "code",
   "execution_count": 90,
   "id": "27283bad-99cd-44b3-8e23-a6400be9e165",
   "metadata": {},
   "outputs": [],
   "source": [
    "from pyspark.sql import SQLContext"
   ]
  },
  {
   "cell_type": "code",
   "execution_count": 91,
   "id": "4b6702a1-b872-4fa0-9ce9-7b53d581a297",
   "metadata": {},
   "outputs": [
    {
     "name": "stderr",
     "output_type": "stream",
     "text": [
      "/home/saurabh/.local/lib/python3.10/site-packages/pyspark/sql/context.py:113: FutureWarning: Deprecated in 3.0.0. Use SparkSession.builder.getOrCreate() instead.\n",
      "  warnings.warn(\n"
     ]
    }
   ],
   "source": [
    "sqlContext = SQLContext(sc)"
   ]
  },
  {
   "cell_type": "code",
   "execution_count": 94,
   "id": "dc23cafd-29dc-487f-aa4a-d180c95f4d41",
   "metadata": {},
   "outputs": [],
   "source": [
    "nyFlightsDF.createOrReplaceTempView(\"NYC_FLIGHTS\")"
   ]
  },
  {
   "cell_type": "code",
   "execution_count": 101,
   "id": "62378910-a947-4b4b-9b4c-10fecd4df355",
   "metadata": {},
   "outputs": [
    {
     "name": "stdout",
     "output_type": "stream",
     "text": [
      "+-------------+\n",
      "|min(air_time)|\n",
      "+-------------+\n",
      "|          100|\n",
      "+-------------+\n",
      "\n"
     ]
    },
    {
     "name": "stderr",
     "output_type": "stream",
     "text": [
      "                                                                                \r"
     ]
    }
   ],
   "source": [
    "sqlContext.sql(\"select min(air_time) from NYC_FLIGHTS\").show()"
   ]
  },
  {
   "cell_type": "code",
   "execution_count": 100,
   "id": "d6e4c17b-c995-4d73-a2c5-9f13eca0d21a",
   "metadata": {},
   "outputs": [
    {
     "name": "stderr",
     "output_type": "stream",
     "text": [
      "                                                                                \r"
     ]
    },
    {
     "name": "stdout",
     "output_type": "stream",
     "text": [
      "+----+-----+---+--------+--------------+---------+--------+--------------+---------+-------+------+-------+------+----+--------+--------+----+------+--------------+\n",
      "|year|month|day|dep_time|sched_dep_time|dep_delay|arr_time|sched_arr_time|arr_delay|carrier|flight|tailnum|origin|dest|air_time|distance|hour|minute|     time_hour|\n",
      "+----+-----+---+--------+--------------+---------+--------+--------------+---------+-------+------+-------+------+----+--------+--------+----+------+--------------+\n",
      "|2013|    1|  1|    1030|          1035|       -5|    1229|          1246|      -17|     EV|  4277| N11189|   EWR| CHS|     100|     628|  10|    35|1/1/2013 10:00|\n",
      "|2013|    1|  1|    1255|          1259|       -4|    1501|          1502|       -1|     US|  1459| N540UW|   LGA| CLT|     100|     544|  12|    59|1/1/2013 12:00|\n",
      "|2013|    1|  1|    1803|          1800|        3|    2021|          2001|       20|     US|   373| N510UW|   JFK| CLT|     100|     541|  18|     0|1/1/2013 18:00|\n",
      "|2013|    1|  2|     910|           858|       12|    1114|          1105|        9|     US|  1429| N747UW|   LGA| CLT|     100|     544|   8|    58| 2/1/2013 8:00|\n",
      "|2013|    1|  2|    1033|           929|       64|    1235|          1132|       63|     EV|  4175| N13914|   EWR| AVL|     100|     583|   9|    29| 2/1/2013 9:00|\n",
      "|2013|    1|  2|    1706|          1710|       -4|    1909|          1915|       -6|     US|  1447| N539UW|   LGA| CLT|     100|     544|  17|    10|2/1/2013 17:00|\n",
      "|2013|    1|  3|     556|           605|       -9|     756|           805|       -9|     MQ|  4401| N722MQ|   LGA| DTW|     100|     502|   6|     5| 3/1/2013 6:00|\n",
      "|2013|    1|  3|     830|           825|        5|    1028|          1029|       -1|     EV|  4412| N21144|   EWR| MYR|     100|     550|   8|    25| 3/1/2013 8:00|\n",
      "|2013|    1|  3|    1454|          1500|       -6|    1656|          1655|        1|     MQ|  4429| N711MQ|   LGA| CMH|     100|     479|  15|     0|3/1/2013 15:00|\n",
      "|2013|    1|  3|    1455|          1500|       -5|    1712|          1657|       15|     EV|  4326| N12567|   EWR| CLT|     100|     529|  15|     0|3/1/2013 15:00|\n",
      "|2013|    1|  4|     821|           829|       -8|    1020|          1034|      -14|     EV|  4690| N13969|   EWR| GRR|     100|     605|   8|    29| 4/1/2013 8:00|\n",
      "|2013|    1|  4|     939|           950|      -11|    1150|          1210|      -20|     9E|  3961| N8501F|   LGA| GRR|     100|     618|   9|    50| 4/1/2013 9:00|\n",
      "|2013|    1|  4|    1444|          1447|       -3|    1657|          1654|        3|     EV|  4572| N10575|   EWR| GSP|     100|     594|  14|    47|4/1/2013 14:00|\n",
      "|2013|    1|  4|    1526|          1530|       -4|    1740|          1737|        3|     US|  1665| N723UW|   LGA| CLT|     100|     544|  15|    30|4/1/2013 15:00|\n",
      "|2013|    1|  4|    1552|          1600|       -8|    1752|          1820|      -28|     MQ|  3985| N610MQ|   JFK| CVG|     100|     589|  16|     0|4/1/2013 16:00|\n",
      "|2013|    1|  4|    2108|          2000|       68|    2304|          2208|       56|     EV|  3822| N14972|   EWR| TYS|     100|     631|  20|     0|4/1/2013 20:00|\n",
      "|2013|    1|  5|     848|           855|       -7|    1100|          1100|        0|     EV|  4913| N741EV|   EWR| DTW|     100|     488|   8|    55| 5/1/2013 8:00|\n",
      "|2013|    1|  6|     808|           805|        3|    1015|          1005|       10|     B6|   219| N198JB|   JFK| CLT|     100|     541|   8|     5| 6/1/2013 8:00|\n",
      "|2013|    1|  6|    1803|          1635|       88|    2019|          1845|       94|     B6|  1085| N229JB|   JFK| CLT|     100|     541|  16|    35|6/1/2013 16:00|\n",
      "|2013|    1|  7|     614|           615|       -1|     812|           855|      -43|     9E|  3856| N146PQ|   JFK| ATL|     100|     760|   6|    15| 7/1/2013 6:00|\n",
      "+----+-----+---+--------+--------------+---------+--------+--------------+---------+-------+------+-------+------+----+--------+--------+----+------+--------------+\n",
      "only showing top 20 rows\n",
      "\n"
     ]
    }
   ],
   "source": [
    "sqlContext.sql(\"select * from NYC_FLIGHTS where air_time IN (select min(air_time) from NYC_FLIGHTS)\").show()"
   ]
  },
  {
   "cell_type": "code",
   "execution_count": 105,
   "id": "6b857b9b-a066-41b7-9174-cd3fa7a02ec6",
   "metadata": {},
   "outputs": [],
   "source": [
    "sc.stop()"
   ]
  },
  {
   "cell_type": "code",
   "execution_count": 106,
   "id": "b1a47961-cb8a-40cc-8bd9-18984c2766b6",
   "metadata": {},
   "outputs": [],
   "source": [
    "spark.stop()"
   ]
  },
  {
   "cell_type": "code",
   "execution_count": 1,
   "id": "fb9b4e3a-1bf3-47b0-9398-df572d8dc27d",
   "metadata": {},
   "outputs": [],
   "source": [
    "from pyspark import SparkContext, SparkConf"
   ]
  },
  {
   "cell_type": "code",
   "execution_count": 2,
   "id": "fef99801-56b9-468d-9453-ade2af01be80",
   "metadata": {},
   "outputs": [],
   "source": [
    "conf = SparkConf().setMaster(\"local[*]\").setAppName(\"Heart disease-using decision tree\")"
   ]
  },
  {
   "cell_type": "code",
   "execution_count": 4,
   "id": "683f7cd1-5d55-4bdf-9e19-bd77fbf681f8",
   "metadata": {},
   "outputs": [],
   "source": [
    "import pandas as pd\n",
    "import numpy as np"
   ]
  },
  {
   "cell_type": "code",
   "execution_count": 5,
   "id": "5d2c8783-1be2-41e0-938c-221ffb628eac",
   "metadata": {},
   "outputs": [],
   "source": [
    "heartDisease_df = pd.read_csv(\"//home/saurabh/Desktop/test/DataSets/Heart_disease_cleveland_new.csv\")"
   ]
  },
  {
   "cell_type": "code",
   "execution_count": 6,
   "id": "9ddbf146-e628-4c17-add8-25c72054c020",
   "metadata": {},
   "outputs": [
    {
     "data": {
      "text/html": [
       "<div>\n",
       "<style scoped>\n",
       "    .dataframe tbody tr th:only-of-type {\n",
       "        vertical-align: middle;\n",
       "    }\n",
       "\n",
       "    .dataframe tbody tr th {\n",
       "        vertical-align: top;\n",
       "    }\n",
       "\n",
       "    .dataframe thead th {\n",
       "        text-align: right;\n",
       "    }\n",
       "</style>\n",
       "<table border=\"1\" class=\"dataframe\">\n",
       "  <thead>\n",
       "    <tr style=\"text-align: right;\">\n",
       "      <th></th>\n",
       "      <th>age</th>\n",
       "      <th>sex</th>\n",
       "      <th>cp</th>\n",
       "      <th>trestbps</th>\n",
       "      <th>chol</th>\n",
       "      <th>fbs</th>\n",
       "      <th>restecg</th>\n",
       "      <th>thalach</th>\n",
       "      <th>exang</th>\n",
       "      <th>oldpeak</th>\n",
       "      <th>slope</th>\n",
       "      <th>ca</th>\n",
       "      <th>thal</th>\n",
       "      <th>target</th>\n",
       "    </tr>\n",
       "  </thead>\n",
       "  <tbody>\n",
       "    <tr>\n",
       "      <th>0</th>\n",
       "      <td>63</td>\n",
       "      <td>1</td>\n",
       "      <td>0</td>\n",
       "      <td>145</td>\n",
       "      <td>233</td>\n",
       "      <td>1</td>\n",
       "      <td>2</td>\n",
       "      <td>150</td>\n",
       "      <td>0</td>\n",
       "      <td>2.3</td>\n",
       "      <td>2</td>\n",
       "      <td>0</td>\n",
       "      <td>2</td>\n",
       "      <td>0</td>\n",
       "    </tr>\n",
       "    <tr>\n",
       "      <th>1</th>\n",
       "      <td>67</td>\n",
       "      <td>1</td>\n",
       "      <td>3</td>\n",
       "      <td>160</td>\n",
       "      <td>286</td>\n",
       "      <td>0</td>\n",
       "      <td>2</td>\n",
       "      <td>108</td>\n",
       "      <td>1</td>\n",
       "      <td>1.5</td>\n",
       "      <td>1</td>\n",
       "      <td>3</td>\n",
       "      <td>1</td>\n",
       "      <td>1</td>\n",
       "    </tr>\n",
       "    <tr>\n",
       "      <th>2</th>\n",
       "      <td>67</td>\n",
       "      <td>1</td>\n",
       "      <td>3</td>\n",
       "      <td>120</td>\n",
       "      <td>229</td>\n",
       "      <td>0</td>\n",
       "      <td>2</td>\n",
       "      <td>129</td>\n",
       "      <td>1</td>\n",
       "      <td>2.6</td>\n",
       "      <td>1</td>\n",
       "      <td>2</td>\n",
       "      <td>3</td>\n",
       "      <td>1</td>\n",
       "    </tr>\n",
       "    <tr>\n",
       "      <th>3</th>\n",
       "      <td>37</td>\n",
       "      <td>1</td>\n",
       "      <td>2</td>\n",
       "      <td>130</td>\n",
       "      <td>250</td>\n",
       "      <td>0</td>\n",
       "      <td>0</td>\n",
       "      <td>187</td>\n",
       "      <td>0</td>\n",
       "      <td>3.5</td>\n",
       "      <td>2</td>\n",
       "      <td>0</td>\n",
       "      <td>1</td>\n",
       "      <td>0</td>\n",
       "    </tr>\n",
       "    <tr>\n",
       "      <th>4</th>\n",
       "      <td>41</td>\n",
       "      <td>0</td>\n",
       "      <td>1</td>\n",
       "      <td>130</td>\n",
       "      <td>204</td>\n",
       "      <td>0</td>\n",
       "      <td>2</td>\n",
       "      <td>172</td>\n",
       "      <td>0</td>\n",
       "      <td>1.4</td>\n",
       "      <td>0</td>\n",
       "      <td>0</td>\n",
       "      <td>1</td>\n",
       "      <td>0</td>\n",
       "    </tr>\n",
       "  </tbody>\n",
       "</table>\n",
       "</div>"
      ],
      "text/plain": [
       "   age  sex  cp  trestbps  chol  fbs  restecg  thalach  exang  oldpeak  slope  \\\n",
       "0   63    1   0       145   233    1        2      150      0      2.3      2   \n",
       "1   67    1   3       160   286    0        2      108      1      1.5      1   \n",
       "2   67    1   3       120   229    0        2      129      1      2.6      1   \n",
       "3   37    1   2       130   250    0        0      187      0      3.5      2   \n",
       "4   41    0   1       130   204    0        2      172      0      1.4      0   \n",
       "\n",
       "   ca  thal  target  \n",
       "0   0     2       0  \n",
       "1   3     1       1  \n",
       "2   2     3       1  \n",
       "3   0     1       0  \n",
       "4   0     1       0  "
      ]
     },
     "execution_count": 6,
     "metadata": {},
     "output_type": "execute_result"
    }
   ],
   "source": [
    "heartDisease_df.head()"
   ]
  },
  {
   "cell_type": "code",
   "execution_count": null,
   "id": "038e2075-dbde-42aa-a593-c430f86f44ef",
   "metadata": {},
   "outputs": [],
   "source": []
  }
 ],
 "metadata": {
  "kernelspec": {
   "display_name": "Python 3 (ipykernel)",
   "language": "python",
   "name": "python3"
  },
  "language_info": {
   "codemirror_mode": {
    "name": "ipython",
    "version": 3
   },
   "file_extension": ".py",
   "mimetype": "text/x-python",
   "name": "python",
   "nbconvert_exporter": "python",
   "pygments_lexer": "ipython3",
   "version": "3.10.12"
  }
 },
 "nbformat": 4,
 "nbformat_minor": 5
}
